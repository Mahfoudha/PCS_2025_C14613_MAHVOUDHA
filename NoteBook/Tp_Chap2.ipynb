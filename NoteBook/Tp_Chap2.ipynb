{
 "cells": [
  {
   "cell_type": "markdown",
   "id": "fdf36555",
   "metadata": {},
   "source": [
    "## Exercise 1"
   ]
  },
  {
   "cell_type": "code",
   "execution_count": 1,
   "id": "7ef358ad",
   "metadata": {},
   "outputs": [
    {
     "name": "stdout",
     "output_type": "stream",
     "text": [
      "f(2.3) = 9.715\n",
      "Is x = 2.3 a zero of the function? False\n"
     ]
    }
   ],
   "source": [
    "# Check whether x = 2.3 is a zero of the function f(x) = x^2 - 0.25x + 5\n",
    "x = 2.3\n",
    "f = lambda x: x**2 - 0.25*x + 5\n",
    "print(f\"f(2.3) = {f(x)}\")\n",
    "print(\"Is x = 2.3 a zero of the function?\", abs(f(x)) < 1e-10)\n"
   ]
  },
  {
   "cell_type": "markdown",
   "id": "0b7809ee",
   "metadata": {},
   "source": [
    "## Exercise 2"
   ]
  },
  {
   "cell_type": "code",
   "execution_count": 3,
   "id": "e2fafd45",
   "metadata": {},
   "outputs": [
    {
     "name": "stdout",
     "output_type": "stream",
     "text": [
      "LHS: (-0.8967584163341469-0.4425204432948521j)\n",
      "RHS: (-0.8967584163341472-0.4425204432948521j)\n",
      "Verification: True\n"
     ]
    }
   ],
   "source": [
    "# Verifying de Moivre's formula: (cos(x) + i*sin(x))**n = cos(n*x) + i*sin(n*x)\n",
    "import cmath\n",
    "\n",
    "x = 1.2\n",
    "n = 3\n",
    "\n",
    "lhs = (cmath.cos(x) + 1j*cmath.sin(x))**n\n",
    "rhs = cmath.cos(n*x) + 1j*cmath.sin(n*x)\n",
    "\n",
    "print(\"LHS:\", lhs)\n",
    "print(\"RHS:\", rhs)\n",
    "print(\"Verification:\", abs(lhs - rhs) < 1e-10)\n"
   ]
  },
  {
   "cell_type": "markdown",
   "id": "1ba0cccf",
   "metadata": {},
   "source": [
    "## Exercise 3"
   ]
  },
  {
   "cell_type": "code",
   "execution_count": 5,
   "id": "56766119",
   "metadata": {},
   "outputs": [
    {
     "name": "stdout",
     "output_type": "stream",
     "text": [
      "LHS: (-0.4161468365471424+0.9092974268256817j)\n",
      "RHS: (-0.4161468365471424+0.9092974268256817j)\n",
      "Verification: True\n"
     ]
    }
   ],
   "source": [
    "# Verifying Euler's formula: e^(ix) = cos(x) + i*sin(x)\n",
    "x = 2.0\n",
    "\n",
    "lhs = cmath.exp(1j * x)\n",
    "rhs = cmath.cos(x) + 1j * cmath.sin(x)\n",
    "\n",
    "print(\"LHS:\", lhs)\n",
    "print(\"RHS:\", rhs)\n",
    "print(\"Verification:\", abs(lhs - rhs) < 1e-10)\n"
   ]
  },
  {
   "cell_type": "markdown",
   "id": "9a604796",
   "metadata": {},
   "source": [
    "## Exercise 4"
   ]
  },
  {
   "cell_type": "code",
   "execution_count": 7,
   "id": "2046d0eb",
   "metadata": {},
   "outputs": [
    {
     "name": "stdout",
     "output_type": "stream",
     "text": [
      "Convergence\n"
     ]
    }
   ],
   "source": [
    "# Checking convergence of a diverging sequence\n",
    "u = 1.0\n",
    "uold = 10.0\n",
    "\n",
    "for iteration in range(2000):\n",
    "    if not abs(u - uold) > 1.e-8:\n",
    "        print('Convergence')\n",
    "        break\n",
    "    uold = u\n",
    "    u = 2*u\n",
    "else:\n",
    "    print('No convergence')\n"
   ]
  },
  {
   "cell_type": "code",
   "execution_count": 9,
   "id": "153e0276",
   "metadata": {},
   "outputs": [
    {
     "name": "stdout",
     "output_type": "stream",
     "text": [
      "No convergence\n"
     ]
    }
   ],
   "source": [
    "# Replacing the condition with abs(u - uold) < 1.e-8\n",
    "u = 1.0\n",
    "uold = 10.0\n",
    "\n",
    "for iteration in range(2000):\n",
    "    if abs(u - uold) < 1.e-8:\n",
    "        print('Convergence')\n",
    "        break\n",
    "    uold = u\n",
    "    u = 2*u\n",
    "else:\n",
    "    print('No convergence')\n"
   ]
  },
  {
   "cell_type": "code",
   "execution_count": 11,
   "id": "fee3a31e",
   "metadata": {},
   "outputs": [
    {
     "name": "stdout",
     "output_type": "stream",
     "text": [
      "No convergence\n"
     ]
    }
   ],
   "source": [
    "# Replacing u = 1.0 with u = 1\n",
    "u = 1  # Integer\n",
    "uold = 10.0\n",
    "\n",
    "for iteration in range(2000):\n",
    "    if abs(u - uold) < 1.e-8:\n",
    "        print('Convergence')\n",
    "        break\n",
    "    uold = u\n",
    "    u = 2*u\n",
    "else:\n",
    "    print('No convergence')\n"
   ]
  },
  {
   "cell_type": "markdown",
   "id": "5bbeaad9",
   "metadata": {},
   "source": [
    "## Exercise 5"
   ]
  },
  {
   "cell_type": "code",
   "execution_count": 15,
   "id": "e3a2e150",
   "metadata": {},
   "outputs": [
    {
     "name": "stdout",
     "output_type": "stream",
     "text": [
      "True\n",
      "False\n",
      "True\n",
      "True\n"
     ]
    }
   ],
   "source": [
    "# Define implication function\n",
    "def implication(A, B):\n",
    "    return not A or B\n",
    "\n",
    "# Test\n",
    "print(implication(True, True))   \n",
    "print(implication(True, False))  \n",
    "print(implication(False, True))  \n",
    "print(implication(False, False)) \n"
   ]
  },
  {
   "cell_type": "markdown",
   "id": "59c142b3",
   "metadata": {},
   "source": [
    "## Exercise 6"
   ]
  },
  {
   "cell_type": "code",
   "execution_count": 19,
   "id": "2dceb358",
   "metadata": {},
   "outputs": [],
   "source": [
    "# Half adder function\n",
    "def half_adder(p, q):\n",
    "    sum_ = p ^ q\n",
    "    carry = p & q\n",
    "    return sum_, carry\n",
    "\n",
    "# Full adder using two half adders\n",
    "def full_adder(a, b, carry_in):\n",
    "    sum1, carry1 = half_adder(a, b)\n",
    "    sum2, carry2 = half_adder(sum1, carry_in)\n",
    "    carry_out = carry1 | carry2\n",
    "    return sum2, carry_out\n",
    "\n",
    "\n"
   ]
  },
  {
   "cell_type": "code",
   "execution_count": 21,
   "id": "598f1ec3-b750-4002-9515-40c59b219391",
   "metadata": {},
   "outputs": [
    {
     "name": "stdout",
     "output_type": "stream",
     "text": [
      "Half Adder (1,1): (0, 1)\n",
      "Full Adder (1,1,0): (0, 1)\n",
      "Full Adder (1,1,1): (1, 1)\n"
     ]
    }
   ],
   "source": [
    "# Test\n",
    "print(\"Half Adder (1,1):\", half_adder(1, 1))\n",
    "print(\"Full Adder (1,1,0):\", full_adder(1, 1, 0))\n",
    "print(\"Full Adder (1,1,1):\", full_adder(1, 1, 1))"
   ]
  },
  {
   "cell_type": "code",
   "execution_count": null,
   "id": "cdaa17d8-7ede-4500-98fa-202953a0c86b",
   "metadata": {},
   "outputs": [],
   "source": []
  }
 ],
 "metadata": {
  "kernelspec": {
   "display_name": "Python 3 (ipykernel)",
   "language": "python",
   "name": "python3"
  },
  "language_info": {
   "codemirror_mode": {
    "name": "ipython",
    "version": 3
   },
   "file_extension": ".py",
   "mimetype": "text/x-python",
   "name": "python",
   "nbconvert_exporter": "python",
   "pygments_lexer": "ipython3",
   "version": "3.11.7"
  }
 },
 "nbformat": 4,
 "nbformat_minor": 5
}
